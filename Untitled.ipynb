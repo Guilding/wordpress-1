{
 "cells": [
  {
   "cell_type": "code",
   "execution_count": 9,
   "metadata": {
    "collapsed": false
   },
   "outputs": [
    {
     "name": "stdout",
     "output_type": "stream",
     "text": [
      "mysql-primary not up yet, sleeping 5....\n",
      "mysql-primary not up yet, sleeping 5....\n",
      "mysql-primary not up yet, sleeping 5....\n",
      "mysql-primary not up yet, sleeping 5....\n",
      "mysql-primary not up yet, sleeping 5....\n",
      "mysql-primary not up yet, sleeping 5....\n",
      "mysql-primary not up yet, sleeping 5....\n",
      "mysql-primary not up yet, sleeping 5....\n",
      "mysql-primary not up yet, sleeping 5....\n",
      "mysql-primary not up yet, sleeping 5....\n",
      "mysql-primary not up yet, sleeping 5....\n",
      "mysql-primary not up yet, sleeping 5....\n",
      "mysql-primary not up yet, sleeping 5....\n",
      "mysql-primary not up yet, sleeping 5....\n",
      "mysql-primary not up yet, sleeping 5....\n",
      "mysql-primary status is: critical, sleeping 5....\n",
      "mysql-primary status is: passing, continuing....\n"
     ]
    }
   ],
   "source": [
    "import consul\n",
    "import time\n",
    "\n",
    "consul = consul.Consul()\n",
    "\n",
    "while True:\n",
    "    try:\n",
    "        result = consul.health.checks('mysql-primary')[1][0]['Status']\n",
    "    except:\n",
    "        print(\"mysql-primary not up yet, sleeping 5....\")\n",
    "    else:\n",
    "        if result == \"passing\":\n",
    "            print(\"mysql-primary status is: {}, continuing....\".format(result))\n",
    "            break\n",
    "        print(\"mysql-primary status is: {}, sleeping 5....\".format(result))\n",
    "    time.sleep(5)"
   ]
  },
  {
   "cell_type": "code",
   "execution_count": 3,
   "metadata": {
    "collapsed": false
   },
   "outputs": [
    {
     "data": {
      "text/plain": [
       "('1500',\n",
       " [{u'Address': u'172.17.0.3',\n",
       "   u'Node': u'd36488ab33ed',\n",
       "   u'ServiceAddress': u'172.17.0.2',\n",
       "   u'ServiceID': u'memcached-22ea7051684e',\n",
       "   u'ServiceName': u'memcached',\n",
       "   u'ServicePort': 11211,\n",
       "   u'ServiceTags': None}])"
      ]
     },
     "execution_count": 3,
     "metadata": {},
     "output_type": "execute_result"
    }
   ],
   "source": [
    "import consul\n",
    "import time\n",
    "\n",
    "consul = consul.Consul()\n",
    "\n",
    "consul.catalog.service(\"memcached\")"
   ]
  },
  {
   "cell_type": "code",
   "execution_count": null,
   "metadata": {
    "collapsed": true
   },
   "outputs": [],
   "source": []
  }
 ],
 "metadata": {
  "kernelspec": {
   "display_name": "Python 2",
   "language": "python",
   "name": "python2"
  },
  "language_info": {
   "codemirror_mode": {
    "name": "ipython",
    "version": 2
   },
   "file_extension": ".py",
   "mimetype": "text/x-python",
   "name": "python",
   "nbconvert_exporter": "python",
   "pygments_lexer": "ipython2",
   "version": "2.7.11"
  }
 },
 "nbformat": 4,
 "nbformat_minor": 0
}
